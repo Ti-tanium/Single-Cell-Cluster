{
 "cells": [
  {
   "cell_type": "code",
   "execution_count": 1,
   "metadata": {},
   "outputs": [],
   "source": [
    "import pandas as pd\n",
    "from sklearn.decomposition import PCA\n",
    "from sklearn.manifold import TSNE\n",
    "from matplotlib import pyplot as plt\n",
    "import numpy as np\n",
    "from sklearn.cluster import KMeans\n"
   ]
  },
  {
   "cell_type": "code",
   "execution_count": 2,
   "metadata": {},
   "outputs": [],
   "source": [
    "data = pd.read_csv('../data/GSE72056_melanoma_single_cell_revised_v2.txt',sep='\\t',index_col=0)"
   ]
  },
  {
   "cell_type": "code",
   "execution_count": 4,
   "metadata": {},
   "outputs": [
    {
     "data": {
      "text/html": [
       "<div>\n",
       "<style scoped>\n",
       "    .dataframe tbody tr th:only-of-type {\n",
       "        vertical-align: middle;\n",
       "    }\n",
       "\n",
       "    .dataframe tbody tr th {\n",
       "        vertical-align: top;\n",
       "    }\n",
       "\n",
       "    .dataframe thead th {\n",
       "        text-align: right;\n",
       "    }\n",
       "</style>\n",
       "<table border=\"1\" class=\"dataframe\">\n",
       "  <thead>\n",
       "    <tr style=\"text-align: right;\">\n",
       "      <th></th>\n",
       "      <th>0</th>\n",
       "      <th>1</th>\n",
       "      <th>2</th>\n",
       "      <th>3</th>\n",
       "      <th>4</th>\n",
       "      <th>5</th>\n",
       "      <th>6</th>\n",
       "      <th>7</th>\n",
       "      <th>8</th>\n",
       "      <th>9</th>\n",
       "      <th>...</th>\n",
       "      <th>23679</th>\n",
       "      <th>23680</th>\n",
       "      <th>23681</th>\n",
       "      <th>23682</th>\n",
       "      <th>23683</th>\n",
       "      <th>23684</th>\n",
       "      <th>23685</th>\n",
       "      <th>23686</th>\n",
       "      <th>23687</th>\n",
       "      <th>23688</th>\n",
       "    </tr>\n",
       "  </thead>\n",
       "  <tbody>\n",
       "    <tr>\n",
       "      <th>Cy72_CD45_H02_S758_comb</th>\n",
       "      <td>72.0</td>\n",
       "      <td>1.0</td>\n",
       "      <td>2.0</td>\n",
       "      <td>0.0</td>\n",
       "      <td>9.2172</td>\n",
       "      <td>0.0000</td>\n",
       "      <td>0.0</td>\n",
       "      <td>0.0</td>\n",
       "      <td>0.00000</td>\n",
       "      <td>0.0000</td>\n",
       "      <td>...</td>\n",
       "      <td>0.62667</td>\n",
       "      <td>0.0</td>\n",
       "      <td>0.0000</td>\n",
       "      <td>0.0</td>\n",
       "      <td>0.0000</td>\n",
       "      <td>7.6069</td>\n",
       "      <td>0.0000</td>\n",
       "      <td>0.0000</td>\n",
       "      <td>2.6638</td>\n",
       "      <td>0.0</td>\n",
       "    </tr>\n",
       "    <tr>\n",
       "      <th>CY58_1_CD45_B02_S974_comb</th>\n",
       "      <td>58.0</td>\n",
       "      <td>1.0</td>\n",
       "      <td>1.0</td>\n",
       "      <td>0.0</td>\n",
       "      <td>8.3745</td>\n",
       "      <td>0.0000</td>\n",
       "      <td>0.0</td>\n",
       "      <td>0.0</td>\n",
       "      <td>0.00000</td>\n",
       "      <td>0.0000</td>\n",
       "      <td>...</td>\n",
       "      <td>1.05450</td>\n",
       "      <td>0.0</td>\n",
       "      <td>0.0000</td>\n",
       "      <td>0.0</td>\n",
       "      <td>0.0000</td>\n",
       "      <td>0.0000</td>\n",
       "      <td>0.0000</td>\n",
       "      <td>0.0000</td>\n",
       "      <td>6.9901</td>\n",
       "      <td>0.0</td>\n",
       "    </tr>\n",
       "    <tr>\n",
       "      <th>Cy71_CD45_D08_S524_comb</th>\n",
       "      <td>71.0</td>\n",
       "      <td>2.0</td>\n",
       "      <td>0.0</td>\n",
       "      <td>0.0</td>\n",
       "      <td>9.3130</td>\n",
       "      <td>2.1263</td>\n",
       "      <td>0.0</td>\n",
       "      <td>0.0</td>\n",
       "      <td>0.73812</td>\n",
       "      <td>0.0000</td>\n",
       "      <td>...</td>\n",
       "      <td>0.99639</td>\n",
       "      <td>0.0</td>\n",
       "      <td>2.7634</td>\n",
       "      <td>0.0</td>\n",
       "      <td>3.6782</td>\n",
       "      <td>0.0000</td>\n",
       "      <td>3.9871</td>\n",
       "      <td>3.8777</td>\n",
       "      <td>1.6126</td>\n",
       "      <td>0.0</td>\n",
       "    </tr>\n",
       "    <tr>\n",
       "      <th>Cy81_FNA_CD45_B01_S301_comb</th>\n",
       "      <td>81.0</td>\n",
       "      <td>2.0</td>\n",
       "      <td>0.0</td>\n",
       "      <td>0.0</td>\n",
       "      <td>7.8876</td>\n",
       "      <td>0.0000</td>\n",
       "      <td>0.0</td>\n",
       "      <td>0.0</td>\n",
       "      <td>0.00000</td>\n",
       "      <td>0.0000</td>\n",
       "      <td>...</td>\n",
       "      <td>0.23143</td>\n",
       "      <td>0.0</td>\n",
       "      <td>4.1937</td>\n",
       "      <td>0.0</td>\n",
       "      <td>0.0000</td>\n",
       "      <td>0.0000</td>\n",
       "      <td>5.2639</td>\n",
       "      <td>3.7660</td>\n",
       "      <td>4.8417</td>\n",
       "      <td>0.0</td>\n",
       "    </tr>\n",
       "    <tr>\n",
       "      <th>Cy80_II_CD45_B07_S883_comb</th>\n",
       "      <td>80.0</td>\n",
       "      <td>2.0</td>\n",
       "      <td>0.0</td>\n",
       "      <td>0.0</td>\n",
       "      <td>8.3291</td>\n",
       "      <td>0.0000</td>\n",
       "      <td>0.0</td>\n",
       "      <td>0.0</td>\n",
       "      <td>0.00000</td>\n",
       "      <td>3.7949</td>\n",
       "      <td>...</td>\n",
       "      <td>0.00000</td>\n",
       "      <td>0.0</td>\n",
       "      <td>2.5705</td>\n",
       "      <td>0.0</td>\n",
       "      <td>0.0000</td>\n",
       "      <td>0.0000</td>\n",
       "      <td>6.0824</td>\n",
       "      <td>1.7816</td>\n",
       "      <td>4.4607</td>\n",
       "      <td>0.0</td>\n",
       "    </tr>\n",
       "  </tbody>\n",
       "</table>\n",
       "<p>5 rows × 23689 columns</p>\n",
       "</div>"
      ],
      "text/plain": [
       "                             0      1      2      3       4       5      \\\n",
       "Cy72_CD45_H02_S758_comb       72.0    1.0    2.0    0.0  9.2172  0.0000   \n",
       "CY58_1_CD45_B02_S974_comb     58.0    1.0    1.0    0.0  8.3745  0.0000   \n",
       "Cy71_CD45_D08_S524_comb       71.0    2.0    0.0    0.0  9.3130  2.1263   \n",
       "Cy81_FNA_CD45_B01_S301_comb   81.0    2.0    0.0    0.0  7.8876  0.0000   \n",
       "Cy80_II_CD45_B07_S883_comb    80.0    2.0    0.0    0.0  8.3291  0.0000   \n",
       "\n",
       "                             6      7        8       9      ...      23679  \\\n",
       "Cy72_CD45_H02_S758_comb        0.0    0.0  0.00000  0.0000  ...    0.62667   \n",
       "CY58_1_CD45_B02_S974_comb      0.0    0.0  0.00000  0.0000  ...    1.05450   \n",
       "Cy71_CD45_D08_S524_comb        0.0    0.0  0.73812  0.0000  ...    0.99639   \n",
       "Cy81_FNA_CD45_B01_S301_comb    0.0    0.0  0.00000  0.0000  ...    0.23143   \n",
       "Cy80_II_CD45_B07_S883_comb     0.0    0.0  0.00000  3.7949  ...    0.00000   \n",
       "\n",
       "                             23680   23681  23682   23683   23684   23685  \\\n",
       "Cy72_CD45_H02_S758_comb        0.0  0.0000    0.0  0.0000  7.6069  0.0000   \n",
       "CY58_1_CD45_B02_S974_comb      0.0  0.0000    0.0  0.0000  0.0000  0.0000   \n",
       "Cy71_CD45_D08_S524_comb        0.0  2.7634    0.0  3.6782  0.0000  3.9871   \n",
       "Cy81_FNA_CD45_B01_S301_comb    0.0  4.1937    0.0  0.0000  0.0000  5.2639   \n",
       "Cy80_II_CD45_B07_S883_comb     0.0  2.5705    0.0  0.0000  0.0000  6.0824   \n",
       "\n",
       "                              23686   23687  23688  \n",
       "Cy72_CD45_H02_S758_comb      0.0000  2.6638    0.0  \n",
       "CY58_1_CD45_B02_S974_comb    0.0000  6.9901    0.0  \n",
       "Cy71_CD45_D08_S524_comb      3.8777  1.6126    0.0  \n",
       "Cy81_FNA_CD45_B01_S301_comb  3.7660  4.8417    0.0  \n",
       "Cy80_II_CD45_B07_S883_comb   1.7816  4.4607    0.0  \n",
       "\n",
       "[5 rows x 23689 columns]"
      ]
     },
     "execution_count": 4,
     "metadata": {},
     "output_type": "execute_result"
    }
   ],
   "source": [
    "data=data.reset_index(drop=True)\n",
    "# data=data.drop('Cell')\n",
    "data=data.T\n",
    "data.head()"
   ]
  },
  {
   "cell_type": "code",
   "execution_count": 6,
   "metadata": {},
   "outputs": [],
   "source": [
    "## filter out genes that are either expressed in less than r% or at least (100-r)%\n",
    "r=0.06\n",
    "label=data.iloc[:,[0,1,2]]\n",
    "data1=data.drop(columns=[0,1,2])\n",
    "data2=data1.T[((data1==0).sum()/4645>r)&((data1==0).sum()/4645<1-r)].T"
   ]
  },
  {
   "cell_type": "code",
   "execution_count": 12,
   "metadata": {},
   "outputs": [],
   "source": [
    "## split cell into malignat and non-malignant\n",
    "malignant=data[data[1]==2]\n",
    "nonmalignant=data[data[1]==1]\n",
    "unresolved=data[data[1]==0]"
   ]
  },
  {
   "cell_type": "code",
   "execution_count": 7,
   "metadata": {},
   "outputs": [],
   "source": [
    "# decomposition\n",
    "tsne=TSNE(n_components=2, random_state=0,perplexity=50.0)\n",
    "data_tsne=tsne.fit_transform(data2)\n",
    "# to dataframe\n",
    "data_tsne_df=pd.DataFrame(data_tsne)"
   ]
  },
  {
   "cell_type": "code",
   "execution_count": 21,
   "metadata": {},
   "outputs": [
    {
     "data": {
      "image/png": "[encoded data removed]",
      "text/plain": [
       "<Figure size 432x288 with 1 Axes>"
      ]
     },
     "metadata": {
      "needs_background": "light"
     },
     "output_type": "display_data"
    }
   ],
   "source": [
    "label_tsne_df=label.reset_index(drop=True).join(data_tsne_df,lsuffix='_x')\n",
    "color_mal={\n",
    "    1.0:'g',\n",
    "    2.0:'r',\n",
    "    0.0:'y'\n",
    "}\n",
    "for row in label_tsne_df.itertuples(index=True, name='Pandas'):\n",
    "    plt.scatter(row[4],row[5],c=color_mal[row[2]])\n",
    "plt.show()"
   ]
  },
  {
   "cell_type": "markdown",
   "metadata": {},
   "source": [
    "# non-maligant cell 降维"
   ]
  },
  {
   "cell_type": "code",
   "execution_count": 23,
   "metadata": {},
   "outputs": [],
   "source": [
    "nonmalignant_tsne=tsne.fit_transform(nonmalignant)"
   ]
  },
  {
   "cell_type": "code",
   "execution_count": null,
   "metadata": {},
   "outputs": [],
   "source": [
    "# to dataframe\n",
    "nonmalignant_tsne_df=pd.DataFrame(nonmaligant_tsne)\n",
    "nonmalignant_label_tsne=label.reset_index(drop=True).join(nonmalignant_tsne_df,lsuffix='_x')\n",
    "color_nonmal={\n",
    "    0.0:'c',\n",
    "    1.0:'g',\n",
    "    2.0:'r',\n",
    "    3.0:'y',\n",
    "    4.0:'b',\n",
    "    5.0:'pink',\n",
    "    6.0:'purple'\n",
    "}\n",
    "for row in nonmalignant_label_tsne.itertuples(index=True, name='Pandas'):\n",
    "    plt.scatter(row[4],row[5],c=color_nonmal[row[3]])\n",
    "plt.show()"
   ]
  },
  {
   "cell_type": "markdown",
   "metadata": {},
   "source": [
    "# K-means 聚类"
   ]
  },
  {
   "cell_type": "code",
   "execution_count": null,
   "metadata": {},
   "outputs": [],
   "source": [
    "num_clusters = 3\n",
    "km_cluster = KMeans(n_clusters=num_clusters, max_iter=300, n_init=40,init='k-means++',n_jobs=-1)\n",
    "#返回各自文本的所被分配到的类索引\n",
    "result = km_cluster.fit_predict(tfidf_matrix)"
   ]
  },
  {
   "cell_type": "markdown",
   "metadata": {},
   "source": [
    "# 层次聚类"
   ]
  },
  {
   "cell_type": "code",
   "execution_count": null,
   "metadata": {},
   "outputs": [],
   "source": [
    "from sklearn.cluster import AgglomerativeClustering \n",
    "\n",
    "k=3\n",
    " \n",
    "model=AgglomerativeClustering(n_clusters=k,linkage='ward')\n",
    " \n",
    "model.fit(data[fColumns]) # 训练模型\n",
    " \n",
    "# 详细输出原始数据极其类别\n",
    " \n",
    "r=pd.concat([data,pd.Series(model.labels_,index=data.index)],axis=1)\n",
    "r.columns=list(data.columns)+['聚类类别']"
   ]
  },
  {
   "cell_type": "markdown",
   "metadata": {},
   "source": [
    "# 谱聚类"
   ]
  },
  {
   "cell_type": "code",
   "execution_count": null,
   "metadata": {},
   "outputs": [],
   "source": [
    "import time\n",
    "from sklearn.cluster import SpectralClustering\n",
    "from sklearn import metrics\n",
    "    start = time.clock() \n",
    "    #X是训练集\n",
    "    \n",
    "    for index, gamma in enumerate((0.01,0.1,1)):\n",
    "        for index, k in enumerate((3,4,5,6)):\n",
    "            y_pred = SpectralClustering(n_clusters=k, gamma=gamma).fit_predict(X)\n",
    "            print \"Calinski-Harabasz Score with gamma=\", gamma, \"n_clusters=\", k,\"score:\", metrics.calinski_harabaz_score(X, y_pred) \n",
    "                          \n",
    "    end = time.clock()    \n",
    "    print('finish all in %s' % str(end - start))"
   ]
  },
  {
   "cell_type": "markdown",
   "metadata": {},
   "source": [
    "# 细胞类型统计"
   ]
  },
  {
   "cell_type": "code",
   "execution_count": null,
   "metadata": {},
   "outputs": [],
   "source": [
    "label_tsne_df.head()"
   ]
  },
  {
   "cell_type": "code",
   "execution_count": null,
   "metadata": {},
   "outputs": [],
   "source": [
    "label[1].value_counts().plot(kind='bar')"
   ]
  },
  {
   "cell_type": "code",
   "execution_count": null,
   "metadata": {},
   "outputs": [],
   "source": [
    "label[2].value_counts().plot(kind='bar',)"
   ]
  },
  {
   "cell_type": "markdown",
   "metadata": {},
   "source": [
    "# 聚类评价"
   ]
  },
  {
   "cell_type": "code",
   "execution_count": null,
   "metadata": {},
   "outputs": [],
   "source": []
  },
  {
   "cell_type": "code",
   "execution_count": 56,
   "metadata": {},
   "outputs": [
    {
     "data": {
      "text/plain": [
       "<matplotlib.collections.PathCollection at 0x2d3c535cd68>"
      ]
     },
     "execution_count": 56,
     "metadata": {},
     "output_type": "execute_result"
    },
    {
     "data": {
      "image/png": "[encoded data removed]",
      "text/plain": [
       "<Figure size 432x288 with 1 Axes>"
      ]
     },
     "metadata": {
      "needs_background": "light"
     },
     "output_type": "display_data"
    }
   ],
   "source": [
    "plt.scatter(*data_pca_tsne[data.cell.str.match(r'Zygote'),:].T,c='b')\n",
    "plt.scatter(*data_pca_tsne[data.cell.str.match(r'Two-cell Embryo'),:].T,c='y')\n",
    "plt.scatter(*data_pca_tsne[data.cell.str.match(r'Four-cell Embryo'),:].T,c='r')\n",
    "plt.scatter(*data_pca_tsne[data.cell.str.match(r'Inner cell'),:].T,c='g')\n",
    "plt.scatter(*data_pca_tsne[data.cell.str.match(r'Trophectoderm'),:].T,c='c')"
   ]
  },
  {
   "cell_type": "code",
   "execution_count": 57,
   "metadata": {},
   "outputs": [
    {
     "data": {
      "text/plain": [
       "<matplotlib.collections.PathCollection at 0x2d3c5586748>"
      ]
     },
     "execution_count": 57,
     "metadata": {},
     "output_type": "execute_result"
    },
    {
     "data": {
      "image/png": "[encoded data removed]",
      "text/plain": [
       "<Figure size 432x288 with 1 Axes>"
      ]
     },
     "metadata": {
      "needs_background": "light"
     },
     "output_type": "display_data"
    }
   ],
   "source": [
    "plt.scatter(*data_pca_tsne.T)"
   ]
  },
  {
   "cell_type": "code",
   "execution_count": 62,
   "metadata": {},
   "outputs": [],
   "source": [
    "clf=KMeans(n_clusters=5)\n",
    "clf=clf.fit(data_pca_tsne)\n",
    "data_kmean=pd.DataFrame(data_pca_tsne)\n",
    "data_kmean['label']=clf.labels_"
   ]
  },
  {
   "cell_type": "code",
   "execution_count": 91,
   "metadata": {},
   "outputs": [
    {
     "data": {
      "image/png": "[encoded data removed]",
      "text/plain": [
       "<Figure size 432x288 with 1 Axes>"
      ]
     },
     "metadata": {
      "needs_background": "light"
     },
     "output_type": "display_data"
    }
   ],
   "source": [
    "color=['r','b','g','c','y'];\n",
    "for row in data_kmean.iterrows():\n",
    "    plt.scatter(row[1][0],row[1][1],c=color[int(row[1]['label'])])"
   ]
  },
  {
   "cell_type": "code",
   "execution_count": 89,
   "metadata": {},
   "outputs": [
    {
     "data": {
      "text/plain": [
       "1.0"
      ]
     },
     "execution_count": 89,
     "metadata": {},
     "output_type": "execute_result"
    }
   ],
   "source": []
  }
 ],
 "metadata": {
  "kernelspec": {
   "display_name": "Python 3",
   "language": "python",
   "name": "python3"
  }
 },
 "nbformat": 4,
 "nbformat_minor": 2
}
